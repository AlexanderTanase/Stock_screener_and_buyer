{
 "cells": [
  {
   "cell_type": "code",
   "execution_count": 2,
   "id": "hydraulic-worse",
   "metadata": {},
   "outputs": [],
   "source": [
    "import requests\n",
    "import json\n",
    "import pandas as pd\n",
    "import numpy as np\n",
    "from scipy import stats\n",
    "from statistics import mean"
   ]
  },
  {
   "cell_type": "code",
   "execution_count": 1,
   "id": "pharmaceutical-bouquet",
   "metadata": {},
   "outputs": [],
   "source": [
    "from secret import *"
   ]
  },
  {
   "cell_type": "code",
   "execution_count": 4,
   "id": "visible-speed",
   "metadata": {},
   "outputs": [],
   "source": [
    "nasdaq = pd.read_csv('nasdaq_screener.csv')"
   ]
  },
  {
   "cell_type": "code",
   "execution_count": 6,
   "id": "signal-jaguar",
   "metadata": {},
   "outputs": [],
   "source": [
    "# Creating dataframe\n",
    "data = pd.DataFrame()\n",
    "\n",
    "# Adding data from the nasdaq csv file to the pandas dataframe\n",
    "for row in nasdaq.index:\n",
    "    data = data.append(pd.Series(\n",
    "        [ \n",
    "            nasdaq.loc[row][0],\n",
    "            nasdaq.loc[row][1],\n",
    "            nasdaq.loc[row][5],\n",
    "            nasdaq.loc[row][6],\n",
    "            nasdaq.loc[row][10]\n",
    "        ],index=['Symbol','Name','Market Cap','Country','Industry']\n",
    "        ), ignore_index=True, sort=True)\n",
    "\n",
    "# reordering the columns\n",
    "columns = ['Symbol','Name','Market Cap','Country','Industry']\n",
    "data = data.reindex(columns=columns)"
   ]
  },
  {
   "cell_type": "code",
   "execution_count": 8,
   "id": "clear-indiana",
   "metadata": {},
   "outputs": [],
   "source": [
    "# getting rid of symbols with market cap under 1,000,000\n",
    "for row in data.index:\n",
    "    market_cap = data.loc[row][2]\n",
    "    if market_cap < 1000000: \n",
    "        data.drop(row, inplace=True)\n",
    "        \n",
    "# Defining function to split up list of quotes to lists of 100 because the api has a limit per request\n",
    "def chunks(lst, n):\n",
    "    for i in range(0, len(lst), n):\n",
    "        yield lst[i:i + n] \n",
    "        \n",
    "data.reset_index(drop=True, inplace=True)\n",
    "\n",
    "# Using the chunks function to break up the symbols into lists of 100 \n",
    "symbol_groups = list(chunks(data['Symbol'], 100))\n",
    "\n",
    "# for each list of 100 stocks make the list into a string of 100 symbols seperated by commas and put the strings into a list because of api requirements\n",
    "symbol_strings = []\n",
    "for index in range(0, len(symbol_groups)):\n",
    "    symbol_strings.append(','.join(symbol_groups[index]))"
   ]
  },
  {
   "cell_type": "code",
   "execution_count": 81,
   "id": "excess-novel",
   "metadata": {},
   "outputs": [],
   "source": [
    "# creating new dataframe to store api data \n",
    "api_data = pd.DataFrame()\n",
    "api_data_cols = ['Symbol', 'Price', 'One-Year Price Return','Three-Month Price Return','One-Month Price Return']"
   ]
  },
  {
   "cell_type": "code",
   "execution_count": 82,
   "id": "cardiovascular-fetish",
   "metadata": {
    "scrolled": true
   },
   "outputs": [],
   "source": [
    "# making a batch api call for each list of 100 stocks to get all the data then adding data to pandas dataframe\n",
    "for symbol_string in symbol_strings:\n",
    "    iex_data = requests.get(f'https://sandbox.iexapis.com/stable/stock/market/batch/?types=quote,advanced-stats&symbols={symbol_string}&token={IEX_API_TOKEN}').json()\n",
    "    for symbol in symbol_string.split(','):\n",
    "        try:\n",
    "            api_data = api_data.append(pd.Series(\n",
    "                [\n",
    "                    symbol,\n",
    "                    iex_data[symbol]['quote']['latestPrice'],\n",
    "                    iex_data[symbol]['advanced-stats']['year1ChangePercent'],\n",
    "                    iex_data[symbol]['advanced-stats']['month3ChangePercent'],\n",
    "                    iex_data[symbol]['advanced-stats']['month1ChangePercent']\n",
    "                ],index = api_data_cols),ignore_index = True)\n",
    "        except Exception:\n",
    "            api_data = api_data.append(pd.Series(\n",
    "                    [\n",
    "                        np.NAN,\n",
    "                        np.NAN,\n",
    "                        np.NAN,\n",
    "                        np.NAN,\n",
    "                        np.NAN\n",
    "                    ],index = api_data_cols),ignore_index=True)\n",
    "            "
   ]
  },
  {
   "cell_type": "code",
   "execution_count": 87,
   "id": "basic-entity",
   "metadata": {},
   "outputs": [],
   "source": [
    "# droping the columns with missing data then reindexing the dataframe\n",
    "\n",
    "api_data.dropna(inplace=True)\n",
    "api_data = api_data.reindex(columns=api_data_cols)"
   ]
  },
  {
   "cell_type": "code",
   "execution_count": 88,
   "id": "comfortable-improvement",
   "metadata": {},
   "outputs": [
    {
     "data": {
      "text/html": [
       "<div>\n",
       "<style scoped>\n",
       "    .dataframe tbody tr th:only-of-type {\n",
       "        vertical-align: middle;\n",
       "    }\n",
       "\n",
       "    .dataframe tbody tr th {\n",
       "        vertical-align: top;\n",
       "    }\n",
       "\n",
       "    .dataframe thead th {\n",
       "        text-align: right;\n",
       "    }\n",
       "</style>\n",
       "<table border=\"1\" class=\"dataframe\">\n",
       "  <thead>\n",
       "    <tr style=\"text-align: right;\">\n",
       "      <th></th>\n",
       "      <th>Symbol</th>\n",
       "      <th>Price</th>\n",
       "      <th>One-Year Price Return</th>\n",
       "      <th>Three-Month Price Return</th>\n",
       "      <th>One-Month Price Return</th>\n",
       "    </tr>\n",
       "  </thead>\n",
       "  <tbody>\n",
       "    <tr>\n",
       "      <th>0</th>\n",
       "      <td>AACG</td>\n",
       "      <td>1.260</td>\n",
       "      <td>-0.582711</td>\n",
       "      <td>-0.298856</td>\n",
       "      <td>-0.163241</td>\n",
       "    </tr>\n",
       "    <tr>\n",
       "      <th>1</th>\n",
       "      <td>AACI</td>\n",
       "      <td>10.030</td>\n",
       "      <td>0.010326</td>\n",
       "      <td>0.003451</td>\n",
       "      <td>0.002054</td>\n",
       "    </tr>\n",
       "    <tr>\n",
       "      <th>2</th>\n",
       "      <td>AADI</td>\n",
       "      <td>16.620</td>\n",
       "      <td>12.773664</td>\n",
       "      <td>-0.170596</td>\n",
       "      <td>-0.172884</td>\n",
       "    </tr>\n",
       "    <tr>\n",
       "      <th>3</th>\n",
       "      <td>AAL</td>\n",
       "      <td>19.894</td>\n",
       "      <td>-0.045516</td>\n",
       "      <td>0.23128</td>\n",
       "      <td>0.212794</td>\n",
       "    </tr>\n",
       "    <tr>\n",
       "      <th>4</th>\n",
       "      <td>AAME</td>\n",
       "      <td>3.300</td>\n",
       "      <td>-0.201809</td>\n",
       "      <td>0.394604</td>\n",
       "      <td>0.140838</td>\n",
       "    </tr>\n",
       "    <tr>\n",
       "      <th>...</th>\n",
       "      <td>...</td>\n",
       "      <td>...</td>\n",
       "      <td>...</td>\n",
       "      <td>...</td>\n",
       "      <td>...</td>\n",
       "    </tr>\n",
       "    <tr>\n",
       "      <th>3749</th>\n",
       "      <td>ZVO</td>\n",
       "      <td>0.731</td>\n",
       "      <td>-0.811662</td>\n",
       "      <td>-0.401359</td>\n",
       "      <td>-0.174917</td>\n",
       "    </tr>\n",
       "    <tr>\n",
       "      <th>3750</th>\n",
       "      <td>ZWRK</td>\n",
       "      <td>10.023</td>\n",
       "      <td>0.006018</td>\n",
       "      <td>0.009067</td>\n",
       "      <td>0.004779</td>\n",
       "    </tr>\n",
       "    <tr>\n",
       "      <th>3751</th>\n",
       "      <td>ZY</td>\n",
       "      <td>1.946</td>\n",
       "      <td>-0.979718</td>\n",
       "      <td>-0.66559</td>\n",
       "      <td>-0.44858</td>\n",
       "    </tr>\n",
       "    <tr>\n",
       "      <th>3752</th>\n",
       "      <td>ZYNE</td>\n",
       "      <td>1.500</td>\n",
       "      <td>-0.665511</td>\n",
       "      <td>-0.407</td>\n",
       "      <td>-0.303484</td>\n",
       "    </tr>\n",
       "    <tr>\n",
       "      <th>3753</th>\n",
       "      <td>ZYXI</td>\n",
       "      <td>7.510</td>\n",
       "      <td>-0.54135</td>\n",
       "      <td>-0.137891</td>\n",
       "      <td>0.110563</td>\n",
       "    </tr>\n",
       "  </tbody>\n",
       "</table>\n",
       "<p>3712 rows × 5 columns</p>\n",
       "</div>"
      ],
      "text/plain": [
       "     Symbol   Price One-Year Price Return Three-Month Price Return  \\\n",
       "0      AACG   1.260             -0.582711                -0.298856   \n",
       "1      AACI  10.030              0.010326                 0.003451   \n",
       "2      AADI  16.620             12.773664                -0.170596   \n",
       "3       AAL  19.894             -0.045516                  0.23128   \n",
       "4      AAME   3.300             -0.201809                 0.394604   \n",
       "...     ...     ...                   ...                      ...   \n",
       "3749    ZVO   0.731             -0.811662                -0.401359   \n",
       "3750   ZWRK  10.023              0.006018                 0.009067   \n",
       "3751     ZY   1.946             -0.979718                 -0.66559   \n",
       "3752   ZYNE   1.500             -0.665511                   -0.407   \n",
       "3753   ZYXI   7.510              -0.54135                -0.137891   \n",
       "\n",
       "     One-Month Price Return  \n",
       "0                 -0.163241  \n",
       "1                  0.002054  \n",
       "2                 -0.172884  \n",
       "3                  0.212794  \n",
       "4                  0.140838  \n",
       "...                     ...  \n",
       "3749              -0.174917  \n",
       "3750               0.004779  \n",
       "3751               -0.44858  \n",
       "3752              -0.303484  \n",
       "3753               0.110563  \n",
       "\n",
       "[3712 rows x 5 columns]"
      ]
     },
     "execution_count": 88,
     "metadata": {},
     "output_type": "execute_result"
    }
   ],
   "source": [
    "api_data"
   ]
  },
  {
   "cell_type": "code",
   "execution_count": 91,
   "id": "lasting-realtor",
   "metadata": {},
   "outputs": [],
   "source": [
    "# for each price return period find the percentile each stock is in compared to the other stocks in the list \n",
    "time_periods = ['One-Year','Three-Month','One-Month']\n",
    "for row in api_data.index:\n",
    "    for time_period in time_periods:\n",
    "        api_data.loc[row, f'{time_period} Return Percentile'] = stats.percentileofscore(\n",
    "            api_data[f'{time_period} Price Return'], api_data.loc[row, f'{time_period} Price Return'])/100"
   ]
  },
  {
   "cell_type": "code",
   "execution_count": 93,
   "id": "alleged-jungle",
   "metadata": {},
   "outputs": [],
   "source": [
    "# finding the mean of each stocks price return percentiles\n",
    "for row in api_data.index:\n",
    "    momentum_score = []\n",
    "    for time_period in time_periods:\n",
    "        momentum_score.append(api_data.loc[row, f'{time_period} Return Percentile'])\n",
    "    api_data.loc[row, 'Momentum Score'] = mean(momentum_score)"
   ]
  },
  {
   "cell_type": "code",
   "execution_count": 98,
   "id": "explicit-thirty",
   "metadata": {},
   "outputs": [],
   "source": [
    "# sorting the dataframe so that the highest momentum scores are on top\n",
    "api_data.sort_values(by='Momentum Score', ascending=False, inplace=True)\n",
    "api_data.reset_index(drop=True, inplace=True)"
   ]
  },
  {
   "cell_type": "code",
   "execution_count": 102,
   "id": "technical-selling",
   "metadata": {},
   "outputs": [],
   "source": [
    "# taking the top 500 stocks and putting them into a seperate dataframe\n",
    "stocks_to_buy = api_data[:500][['Symbol', 'Price']]"
   ]
  },
  {
   "cell_type": "code",
   "execution_count": 104,
   "id": "bottom-hotel",
   "metadata": {},
   "outputs": [],
   "source": [
    "# exporting list of stocks to csv file\n",
    "stocks_to_buy.to_csv('stocks_to_buy.csv', index=False)"
   ]
  },
  {
   "cell_type": "code",
   "execution_count": null,
   "id": "vital-enough",
   "metadata": {},
   "outputs": [],
   "source": []
  }
 ],
 "metadata": {
  "kernelspec": {
   "display_name": "Python 3",
   "language": "python",
   "name": "python3"
  },
  "language_info": {
   "codemirror_mode": {
    "name": "ipython",
    "version": 3
   },
   "file_extension": ".py",
   "mimetype": "text/x-python",
   "name": "python",
   "nbconvert_exporter": "python",
   "pygments_lexer": "ipython3",
   "version": "3.8.6"
  }
 },
 "nbformat": 4,
 "nbformat_minor": 5
}
