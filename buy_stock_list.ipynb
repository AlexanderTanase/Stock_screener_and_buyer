{
 "cells": [
  {
   "cell_type": "code",
   "execution_count": 19,
   "id": "substantial-platinum",
   "metadata": {},
   "outputs": [],
   "source": [
    "import requests \n",
    "import json\n",
    "from secret import *\n",
    "import pandas as pd\n",
    "import math"
   ]
  },
  {
   "cell_type": "code",
   "execution_count": 14,
   "id": "regular-crazy",
   "metadata": {},
   "outputs": [],
   "source": [
    "paper_api_endpoint = 'https://paper-api.alpaca.markets'\n",
    "account_url = f'{paper_api_endpoint}/v2/account'\n",
    "orders_url = f'{paper_api_endpoint}/v2/orders'\n",
    "headers={'APCA-API-KEY-ID': PUBLIC_KEY, 'APCA-API-SECRET-KEY': SECRET_KEY}"
   ]
  },
  {
   "cell_type": "code",
   "execution_count": 11,
   "id": "bacterial-adjustment",
   "metadata": {},
   "outputs": [],
   "source": [
    "# get all account info\n",
    "def account(info):\n",
    "    account_info = requests.get(account_url, headers=headers)\n",
    "    account_info = json.loads(account_info.content)\n",
    "    return account_info[info]\n",
    "\n",
    "# function for making a new order request\n",
    "def mk_order(symbol, qty, side, order_type, time):\n",
    "    order_data = {\n",
    "        'symbol':symbol,\n",
    "        'qty':qty,\n",
    "        'side':side,\n",
    "        'type':order_type,\n",
    "        'time_in_force':time\n",
    "    }\n",
    "    order = requests.post(orders_url, json=order_data, headers=headers)\n",
    "    order = json.loads(order.content)\n",
    "    print(order['symbol'], order['qty'], order['status'])"
   ]
  },
  {
   "cell_type": "code",
   "execution_count": 10,
   "id": "first-declaration",
   "metadata": {},
   "outputs": [],
   "source": [
    "# sheet containing symbol and prices for stocks to buy\n",
    "order_sheet = pd.read_csv('stocks_to_buy.csv')"
   ]
  },
  {
   "cell_type": "code",
   "execution_count": 17,
   "id": "vulnerable-brooklyn",
   "metadata": {},
   "outputs": [],
   "source": [
    "# getting the account buying power from alpaca api\n",
    "buying_power = account(info='buying_power')\n",
    "\n",
    "# subtracting 50,000 from buying power because paper trading api gives false data\n",
    "buying_power = float(buying_power) - 50000\n",
    "\n",
    "# finding how much to buy of each stock in order to spread out the money evenly\n",
    "position_size = float(buying_power)/len(order_sheet.index)"
   ]
  },
  {
   "cell_type": "code",
   "execution_count": 20,
   "id": "alert-finger",
   "metadata": {},
   "outputs": [],
   "source": [
    "# claculating how many shares to buy\n",
    "for row in order_sheet.index:\n",
    "    order_sheet.loc[row, 'Num of Shares to Buy'] = math.floor(float(position_size) / float(order_sheet.loc[row, 'Price']))"
   ]
  },
  "source": [
    "# submitting buy orders for stocks on list \n",
    "for row in order_sheet.index:\n",
    "    symbol = order_sheet.loc[row, 'Symbol']\n",
    "    qty = order_sheet.loc[row, 'Num of Shares to Buy']\n",
    "    try:\n",
    "        mk_order(symbol, qty, 'buy', 'market', 'gtc')\n",
    "    except Exception:\n",
    "        pass\n",
    "        "
   ]
  },
  {
   "cell_type": "code",
   "execution_count": null,
   "id": "copyrighted-arbor",
   "metadata": {},
   "outputs": [],
   "source": [
    "\n",
    "    "
   ]
  },
  {
   "cell_type": "code",
   "execution_count": null,
   "id": "agreed-gazette",
   "metadata": {},
   "outputs": [],
   "source": []
  },
  {
   "cell_type": "code",
   "execution_count": null,
   "id": "normal-duration",
   "metadata": {},
   "outputs": [],
   "source": []
  }
 ],
 "metadata": {
  "kernelspec": {
   "display_name": "Python 3",
   "language": "python",
   "name": "python3"
  },
  "language_info": {
   "codemirror_mode": {
    "name": "ipython",
    "version": 3
   },
   "file_extension": ".py",
   "mimetype": "text/x-python",
   "name": "python",
   "nbconvert_exporter": "python",
   "pygments_lexer": "ipython3",
   "version": "3.8.6"
  }
 },
 "nbformat": 4,
 "nbformat_minor": 5
}
